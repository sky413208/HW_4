{
  "nbformat": 4,
  "nbformat_minor": 0,
  "metadata": {
    "colab": {
      "name": "CT_imageynb",
      "provenance": []
    },
    "kernelspec": {
      "name": "python3",
      "display_name": "Python 3"
    },
    "language_info": {
      "name": "python"
    }
  },
  "cells": [
    {
      "cell_type": "code",
      "metadata": {
        "id": "VpubZ38wLXFU"
      },
      "source": [
        "from google.colab.patches import cv2_imshow\n",
        "import csv\n",
        "import random\n",
        "import time\n",
        "import pandas as pd\n",
        "import matplotlib.image as mping\n",
        "import matplotlib.pyplot as plt\n",
        "import seaborn as sns\n",
        "from keras import optimizers\n",
        "from matplotlib.font_manager import FontProperties\n",
        "plt.rcParams['font.sans-serif'] = ['Microsoft JhengHei']\n",
        "from keras.utils.np_utils import to_categorical\n",
        "from keras.preprocessing.image import ImageDataGenerator, array_to_img, img_to_array, load_img\n",
        "from keras.optimizers import RMSprop\n",
        "from keras import utils as np_utils\n",
        "from tensorflow.keras import models\n",
        "from tensorflow.keras import layers\n",
        "from tensorflow import keras\n",
        "import tensorflow as tf\n",
        "import os\n",
        "import cv2\n",
        "from keras.layers import Input,Dense,Flatten,Dropout,merge,Reshape,Conv2D,MaxPooling2D,UpSampling2D,Conv2DTranspose\n",
        "from keras.layers.normalization import BatchNormalization\n",
        "from keras.models import Model,Sequential\n",
        "from keras.callbacks import ModelCheckpoint\n",
        "from keras.optimizers import Adadelta, RMSprop,SGD,Adam\n",
        "from keras import regularizers\n",
        "from keras import backend as K\n",
        "import numpy as np\n",
        "import scipy.misc\n",
        "import numpy.random as rng\n",
        "from PIL import Image, ImageDraw, ImageFont\n",
        "from sklearn.utils import shuffle\n",
        "import nibabel as nib #reading MR images\n",
        "from sklearn.model_selection import train_test_split\n",
        "import math\n",
        "import glob\n",
        "from matplotlib import pyplot as plt\n",
        "%matplotlib inline"
      ],
      "execution_count": 2,
      "outputs": []
    },
    {
      "cell_type": "code",
      "metadata": {
        "id": "ujbAhnMWLe23"
      },
      "source": [
        "import os\n",
        "import zipfile\n",
        "\n",
        "\n",
        "# zipfile example\n",
        "def zip_list(file_path):\n",
        "    zf = zipfile.ZipFile(file_path)\n",
        "    zf.extractall()\n",
        "\n",
        "\n",
        "if __name__ == '__main__':\n",
        "    file_path = '/content/drive/MyDrive/ICTS.zip'\n",
        "    zip_list(file_path)\n"
      ],
      "execution_count": null,
      "outputs": []
    },
    {
      "cell_type": "code",
      "metadata": {
        "colab": {
          "base_uri": "https://localhost:8080/"
        },
        "id": "s9io-8qFLq6Y",
        "outputId": "8a6fd6f8-ec68-48ac-8165-036a65bbce3b"
      },
      "source": [
        "img = glob.glob('/content/image/*')\n",
        "label = glob.glob('/content/label/*')\n",
        "\n",
        "print(len(img))\n",
        "print(len(label))"
      ],
      "execution_count": 3,
      "outputs": [
        {
          "output_type": "stream",
          "text": [
            "1500\n",
            "1500\n"
          ],
          "name": "stdout"
        }
      ]
    },
    {
      "cell_type": "code",
      "metadata": {
        "colab": {
          "base_uri": "https://localhost:8080/"
        },
        "id": "c0Y_s2tNM5jL",
        "outputId": "b09c9492-6d52-4c6e-db48-c2014ee5279f"
      },
      "source": [
        "images = []\n",
        "\n",
        "for f in range(len(img)):\n",
        "    a = nib.load(img[f])\n",
        "    a = a.get_data()\n",
        "    \n",
        "for i in range(a.shape[1]):\n",
        "    images.append((a[:,i,:]))\n",
        "\n",
        "print (a.shape)"
      ],
      "execution_count": 5,
      "outputs": [
        {
          "output_type": "stream",
          "text": [
            "/usr/local/lib/python3.7/dist-packages/ipykernel_launcher.py:5: DeprecationWarning: get_data() is deprecated in favor of get_fdata(), which has a more predictable return type. To obtain get_data() behavior going forward, use numpy.asanyarray(img.dataobj).\n",
            "\n",
            "* deprecated from version: 3.0\n",
            "* Will raise <class 'nibabel.deprecator.ExpiredDeprecationError'> as of version: 5.0\n",
            "  \"\"\"\n"
          ],
          "name": "stderr"
        },
        {
          "output_type": "stream",
          "text": [
            "(512, 512, 86)\n"
          ],
          "name": "stdout"
        }
      ]
    },
    {
      "cell_type": "code",
      "metadata": {
        "colab": {
          "base_uri": "https://localhost:8080/"
        },
        "id": "dZOUTLGrNZQ4",
        "outputId": "494576df-7ec5-488e-8b65-9809cad98755"
      },
      "source": [
        "\n",
        "labels = []\n",
        "\n",
        "for c in range(len(label)):\n",
        "    la = nib.load(label[c])\n",
        "    la = la.get_data()\n",
        "    \n",
        "for d in range(la.shape[1]):\n",
        "    labels.append((la[:,d,:]))\n",
        "  \n",
        "print (la.shape)"
      ],
      "execution_count": 6,
      "outputs": [
        {
          "output_type": "stream",
          "text": [
            "/usr/local/lib/python3.7/dist-packages/ipykernel_launcher.py:6: DeprecationWarning: get_data() is deprecated in favor of get_fdata(), which has a more predictable return type. To obtain get_data() behavior going forward, use numpy.asanyarray(img.dataobj).\n",
            "\n",
            "* deprecated from version: 3.0\n",
            "* Will raise <class 'nibabel.deprecator.ExpiredDeprecationError'> as of version: 5.0\n",
            "  \n"
          ],
          "name": "stderr"
        },
        {
          "output_type": "stream",
          "text": [
            "(512, 512, 86)\n"
          ],
          "name": "stdout"
        }
      ]
    },
    {
      "cell_type": "code",
      "metadata": {
        "colab": {
          "base_uri": "https://localhost:8080/"
        },
        "id": "eyTzHPXIPHtW",
        "outputId": "450d4069-1a40-464e-d347-2c25b33ccd4b"
      },
      "source": [
        "images = np.asarray(images)\n",
        "print(images.shape)\n",
        "labels = np.asarray(labels)\n",
        "print(labels.shape)"
      ],
      "execution_count": 7,
      "outputs": [
        {
          "output_type": "stream",
          "text": [
            "(512, 512, 86)\n",
            "(512, 512, 86)\n"
          ],
          "name": "stdout"
        }
      ]
    },
    {
      "cell_type": "code",
      "metadata": {
        "colab": {
          "base_uri": "https://localhost:8080/"
        },
        "id": "En7-C41zQC20",
        "outputId": "7c316144-a086-4425-9910-bb9d68105e8c"
      },
      "source": [
        "\n",
        "from sklearn.model_selection import train_test_split\n",
        "from sklearn.model_selection import train_test_split\n",
        "train_X,valid_X,train_ground,valid_ground = train_test_split(images,\n",
        "                                labels,\n",
        "                                test_size=0.2,\n",
        "                                random_state=13)\n",
        "\n",
        "print(train_X.shape)\n",
        "print(train_ground.shape)"
      ],
      "execution_count": 8,
      "outputs": [
        {
          "output_type": "stream",
          "text": [
            "(409, 512, 86)\n",
            "(409, 512, 86)\n"
          ],
          "name": "stdout"
        }
      ]
    },
    {
      "cell_type": "code",
      "metadata": {
        "id": "jQhTjfZ3Q0l3"
      },
      "source": [
        "batch_size = 100\n",
        "epochs = 10\n",
        "inChannel = 1\n",
        "x, y = 512, 86\n",
        "input_img = Input(shape = (x, y, inChannel))"
      ],
      "execution_count": 54,
      "outputs": []
    },
    {
      "cell_type": "code",
      "metadata": {
        "id": "k9IMaqkQRFX_"
      },
      "source": [
        "def autoencoder(input_img):\n",
        "    #encoder\n",
        "    #input = 512 x 86 x 1 (wide and thin)\n",
        "    conv1 = Conv2D(16, (3, 3), activation='relu', padding='same')(input_img) #512 x 86 x 16\n",
        "    conv1 = BatchNormalization()(conv1)\n",
        "    pool1 = MaxPooling2D(pool_size=(2, 2))(conv1) #256 x 43 x 32\n",
        "    conv2 = Conv2D(32, (3, 3), activation='relu', padding='same')(pool1) #256 x 43 x 64\n",
        "    conv2 = BatchNormalization()(conv2)\n",
        "    pool2 = MaxPooling2D(pool_size=(1, 1), padding='valid')(conv2) #256 x 43 x 64\n",
        "    conv3 = Conv2D(64, (3, 3), activation='relu', padding='same')(pool2) #256 x 43 x 64 (small and thick)\n",
        "    conv3 = BatchNormalization()(conv3)\n",
        "   \n",
        "\n",
        "    #decoder\n",
        "    conv4 = Conv2D(32, (3, 3), activation='relu', padding='same')(conv3) #256 x 43 x 32\n",
        "    conv4 = BatchNormalization()(conv4)\n",
        "    up1 = UpSampling2D((2,2))(conv4) # 512 x 86 x 32\n",
        "    conv5 = Conv2D(16, (3, 3), activation='relu', padding='same')(up1) # 512 x 86 x 16\n",
        "    conv5 = BatchNormalization()(conv5)\n",
        "    up2 = UpSampling2D((1,1))(conv5) # 512 x 86 x 16\n",
        "    decoded = Conv2D(1, (3, 3), activation='sigmoid', padding='same')(up2) # 512 x 86 x 1\n",
        "    return decoded"
      ],
      "execution_count": 61,
      "outputs": []
    },
    {
      "cell_type": "code",
      "metadata": {
        "colab": {
          "base_uri": "https://localhost:8080/"
        },
        "id": "5EtXHtrSRHnT",
        "outputId": "e2298467-0ca1-4142-fea9-6e495098074f"
      },
      "source": [
        "autoencoder = Model(input_img, autoencoder(input_img))\n",
        "autoencoder.compile(loss='mean_squared_error', optimizer = RMSprop(), metrics=['accuracy'])\n",
        "autoencoder.summary()"
      ],
      "execution_count": 62,
      "outputs": [
        {
          "output_type": "stream",
          "text": [
            "Model: \"model_22\"\n",
            "_________________________________________________________________\n",
            "Layer (type)                 Output Shape              Param #   \n",
            "=================================================================\n",
            "input_2 (InputLayer)         [(None, 512, 86, 1)]      0         \n",
            "_________________________________________________________________\n",
            "conv2d_157 (Conv2D)          (None, 512, 86, 16)       160       \n",
            "_________________________________________________________________\n",
            "batch_normalization_135 (Bat (None, 512, 86, 16)       64        \n",
            "_________________________________________________________________\n",
            "max_pooling2d_46 (MaxPooling (None, 256, 43, 16)       0         \n",
            "_________________________________________________________________\n",
            "conv2d_158 (Conv2D)          (None, 256, 43, 32)       4640      \n",
            "_________________________________________________________________\n",
            "batch_normalization_136 (Bat (None, 256, 43, 32)       128       \n",
            "_________________________________________________________________\n",
            "max_pooling2d_47 (MaxPooling (None, 256, 43, 32)       0         \n",
            "_________________________________________________________________\n",
            "conv2d_159 (Conv2D)          (None, 256, 43, 64)       18496     \n",
            "_________________________________________________________________\n",
            "batch_normalization_137 (Bat (None, 256, 43, 64)       256       \n",
            "_________________________________________________________________\n",
            "conv2d_160 (Conv2D)          (None, 256, 43, 32)       18464     \n",
            "_________________________________________________________________\n",
            "batch_normalization_138 (Bat (None, 256, 43, 32)       128       \n",
            "_________________________________________________________________\n",
            "up_sampling2d_41 (UpSampling (None, 512, 86, 32)       0         \n",
            "_________________________________________________________________\n",
            "conv2d_161 (Conv2D)          (None, 512, 86, 16)       4624      \n",
            "_________________________________________________________________\n",
            "batch_normalization_139 (Bat (None, 512, 86, 16)       64        \n",
            "_________________________________________________________________\n",
            "up_sampling2d_42 (UpSampling (None, 512, 86, 16)       0         \n",
            "_________________________________________________________________\n",
            "conv2d_162 (Conv2D)          (None, 512, 86, 1)        145       \n",
            "=================================================================\n",
            "Total params: 47,169\n",
            "Trainable params: 46,849\n",
            "Non-trainable params: 320\n",
            "_________________________________________________________________\n"
          ],
          "name": "stdout"
        }
      ]
    },
    {
      "cell_type": "code",
      "metadata": {
        "colab": {
          "base_uri": "https://localhost:8080/"
        },
        "id": "YilisBtyRJSc",
        "outputId": "318fba15-47c3-4b42-ce38-61a92905a676"
      },
      "source": [
        "autoencoder_train = autoencoder.fit(train_X, train_ground, batch_size=batch_size,epochs=epochs,verbose=1,validation_data=(valid_X, valid_ground))"
      ],
      "execution_count": 63,
      "outputs": [
        {
          "output_type": "stream",
          "text": [
            "Epoch 1/10\n",
            "5/5 [==============================] - 107s 20s/step - loss: 0.2738 - accuracy: 0.5220 - val_loss: 0.4399 - val_accuracy: 0.6891\n",
            "Epoch 2/10\n",
            "5/5 [==============================] - 104s 20s/step - loss: 0.1985 - accuracy: 0.8435 - val_loss: 0.4309 - val_accuracy: 0.7037\n",
            "Epoch 3/10\n",
            "5/5 [==============================] - 104s 20s/step - loss: 0.1720 - accuracy: 0.8817 - val_loss: 0.3818 - val_accuracy: 0.7166\n",
            "Epoch 4/10\n",
            "5/5 [==============================] - 103s 20s/step - loss: 0.1547 - accuracy: 0.8890 - val_loss: 0.3578 - val_accuracy: 0.7224\n",
            "Epoch 5/10\n",
            "5/5 [==============================] - 101s 19s/step - loss: 0.1389 - accuracy: 0.9010 - val_loss: 0.3491 - val_accuracy: 0.7316\n",
            "Epoch 6/10\n",
            "5/5 [==============================] - 103s 20s/step - loss: 0.1224 - accuracy: 0.9245 - val_loss: 0.3252 - val_accuracy: 0.7352\n",
            "Epoch 7/10\n",
            "5/5 [==============================] - 107s 21s/step - loss: 0.1147 - accuracy: 0.9264 - val_loss: 0.3072 - val_accuracy: 0.7402\n",
            "Epoch 8/10\n",
            "5/5 [==============================] - 104s 20s/step - loss: 0.1034 - accuracy: 0.9386 - val_loss: 0.2627 - val_accuracy: 0.7604\n",
            "Epoch 9/10\n",
            "5/5 [==============================] - 104s 20s/step - loss: 0.0947 - accuracy: 0.9458 - val_loss: 0.1779 - val_accuracy: 0.8833\n",
            "Epoch 10/10\n",
            "5/5 [==============================] - 104s 20s/step - loss: 0.0852 - accuracy: 0.9542 - val_loss: 0.1248 - val_accuracy: 0.9317\n"
          ],
          "name": "stdout"
        }
      ]
    },
    {
      "cell_type": "code",
      "metadata": {
        "id": "lGRabEwjqsAx"
      },
      "source": [
        "import os\n",
        "import zipfile\n",
        "\n",
        "def zip_list(file_path):\n",
        "    zf = zipfile.ZipFile(file_path)\n",
        "    zf.extractall()\n",
        "\n",
        "if __name__ == '__main__':\n",
        "    file_path = '/content/drive/MyDrive/ICTS-test-2020.zip'\n",
        "    zip_list(file_path)\n"
      ],
      "execution_count": 110,
      "outputs": []
    },
    {
      "cell_type": "code",
      "metadata": {
        "colab": {
          "base_uri": "https://localhost:8080/"
        },
        "id": "7A-YPM8grGVy",
        "outputId": "7f9ef17d-12c8-4088-dfd0-09d2aa02c362"
      },
      "source": [
        "testimg = glob.glob('/content/imagtest/*')\n",
        "\n",
        "testimages = []\n",
        "\n",
        "for f in range(len(testimg)):\n",
        "    a = nib.load(testimg[f])\n",
        "    a = a.get_data()\n",
        "    \n",
        "for i in range(a.shape[1]):\n",
        "    testimages.append((a[:,i,:]))\n",
        "\n",
        "print(a.shape)\n",
        "\n",
        "testimages = np.asarray(testimages)\n",
        "print(testimages.shape)\n",
        "print(len(testimg))"
      ],
      "execution_count": 113,
      "outputs": [
        {
          "output_type": "stream",
          "text": [
            "/usr/local/lib/python3.7/dist-packages/ipykernel_launcher.py:7: DeprecationWarning: get_data() is deprecated in favor of get_fdata(), which has a more predictable return type. To obtain get_data() behavior going forward, use numpy.asanyarray(img.dataobj).\n",
            "\n",
            "* deprecated from version: 3.0\n",
            "* Will raise <class 'nibabel.deprecator.ExpiredDeprecationError'> as of version: 5.0\n",
            "  import sys\n"
          ],
          "name": "stderr"
        },
        {
          "output_type": "stream",
          "text": [
            "(512, 512, 86)\n",
            "(512, 512, 86)\n",
            "91\n"
          ],
          "name": "stdout"
        }
      ]
    },
    {
      "cell_type": "code",
      "metadata": {
        "id": "TqlOQu9sRxq1",
        "colab": {
          "base_uri": "https://localhost:8080/"
        },
        "outputId": "947f1558-8930-4e85-c5cb-e23369b4acad"
      },
      "source": [
        "y_pred_keras = autoencoder.predict_generator(testimages, verbose=1)\n"
      ],
      "execution_count": 120,
      "outputs": [
        {
          "output_type": "stream",
          "text": [
            "/usr/local/lib/python3.7/dist-packages/keras/engine/training.py:1976: UserWarning: `Model.predict_generator` is deprecated and will be removed in a future version. Please use `Model.predict`, which supports generators.\n",
            "  warnings.warn('`Model.predict_generator` is deprecated and '\n"
          ],
          "name": "stderr"
        },
        {
          "output_type": "stream",
          "text": [
            "16/16 [==============================] - 27s 2s/step\n"
          ],
          "name": "stdout"
        }
      ]
    },
    {
      "cell_type": "code",
      "metadata": {
        "colab": {
          "base_uri": "https://localhost:8080/",
          "height": 286
        },
        "id": "B7GjICIBmJ5R",
        "outputId": "7c6c5570-f54e-4f9c-f47d-6524f4eb2cdf"
      },
      "source": [
        "plt.subplot(1,3,1)\n",
        "plt.imshow(testimages[100])\n",
        "\n",
        "plt.subplot(1,3,2)\n",
        "plt.imshow(y_pred_keras[100][...,0],alpha = 0.5)"
      ],
      "execution_count": 121,
      "outputs": [
        {
          "output_type": "execute_result",
          "data": {
            "text/plain": [
              "<matplotlib.image.AxesImage at 0x7efce41d1e90>"
            ]
          },
          "metadata": {
            "tags": []
          },
          "execution_count": 121
        },
        {
          "output_type": "display_data",
          "data": {
            "image/png": "[encoded data removed]",
            "text/plain": [
              "<Figure size 432x288 with 2 Axes>"
            ]
          },
          "metadata": {
            "tags": [],
            "needs_background": "light"
          }
        }
      ]
    },
    {
      "cell_type": "code",
      "metadata": {
        "id": "zVsFR0ZSmsGR"
      },
      "source": [
        ""
      ],
      "execution_count": null,
      "outputs": []
    }
  ]
}